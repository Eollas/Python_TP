{
 "cells": [
  {
   "cell_type": "code",
   "execution_count": 9,
   "metadata": {},
   "outputs": [],
   "source": [
    "import socket\n",
    "import dns.resolver"
   ]
  },
  {
   "cell_type": "code",
   "execution_count": 10,
   "metadata": {},
   "outputs": [
    {
     "name": "stdout",
     "output_type": "stream",
     "text": [
      "194.199.227.80\n"
     ]
    }
   ],
   "source": [
    "print ( socket.gethostbyname ('www.iutbeziers.fr'))\n"
   ]
  },
  {
   "cell_type": "code",
   "execution_count": 19,
   "metadata": {},
   "outputs": [
    {
     "name": "stdout",
     "output_type": "stream",
     "text": [
      "ip =  194.199.227.80\n"
     ]
    }
   ],
   "source": [
    "answer=dns.resolver.query(\"www.iutbeziers.fr\", \"A\")\n",
    "for data in answer:                      \n",
    "        print (\"ip = \", data)"
   ]
  },
  {
   "cell_type": "code",
   "execution_count": 20,
   "metadata": {},
   "outputs": [
    {
     "name": "stdout",
     "output_type": "stream",
     "text": [
      "ip =  www.iutbeziers.fr.\n"
     ]
    }
   ],
   "source": [
    "answer=dns.resolver.query(\"80.227.199.194.in-addr.arpa\", \"ptr\")\n",
    "for data in answer:                      \n",
    "        print (\"ip = \", data)"
   ]
  },
  {
   "cell_type": "code",
   "execution_count": 21,
   "metadata": {},
   "outputs": [
    {
     "name": "stdout",
     "output_type": "stream",
     "text": [
      "mx =  10 mail.iutbeziers.fr.\n"
     ]
    }
   ],
   "source": [
    "answer=dns.resolver.query(\"iutbeziers.fr\", \"MX\")\n",
    "for data in answer:\n",
    "        print (\"mx = \", data)"
   ]
  },
  {
   "cell_type": "code",
   "execution_count": 13,
   "metadata": {},
   "outputs": [
    {
     "name": "stdout",
     "output_type": "stream",
     "text": [
      "ns =  scribe.iutbeziers.fr.\n"
     ]
    }
   ],
   "source": [
    "answer=dns.resolver.query(\"iutbeziers.fr\", \"NS\")\n",
    "for data in answer:\n",
    "        print (\"ns = \", data)"
   ]
  },
  {
   "cell_type": "code",
   "execution_count": 14,
   "metadata": {},
   "outputs": [
    {
     "name": "stdout",
     "output_type": "stream",
     "text": [
      "resolver du container =  ['127.0.0.11']\n"
     ]
    }
   ],
   "source": [
    "myResolver = dns.resolver.Resolver()\n",
    "print (\"resolver du container = \", myResolver.nameservers)"
   ]
  },
  {
   "cell_type": "code",
   "execution_count": null,
   "metadata": {},
   "outputs": [],
   "source": []
  }
 ],
 "metadata": {
  "kernelspec": {
   "display_name": "Python 3",
   "language": "python",
   "name": "python3"
  },
  "language_info": {
   "codemirror_mode": {
    "name": "ipython",
    "version": 3
   },
   "file_extension": ".py",
   "mimetype": "text/x-python",
   "name": "python",
   "nbconvert_exporter": "python",
   "pygments_lexer": "ipython3",
   "version": "3.7.2"
  },
  "varInspector": {
   "cols": {
    "lenName": 16,
    "lenType": 16,
    "lenVar": 40
   },
   "kernels_config": {
    "python": {
     "delete_cmd_postfix": "",
     "delete_cmd_prefix": "del ",
     "library": "var_list.py",
     "varRefreshCmd": "print(var_dic_list())"
    },
    "r": {
     "delete_cmd_postfix": ") ",
     "delete_cmd_prefix": "rm(",
     "library": "var_list.r",
     "varRefreshCmd": "cat(var_dic_list()) "
    }
   },
   "types_to_exclude": [
    "module",
    "function",
    "builtin_function_or_method",
    "instance",
    "_Feature"
   ],
   "window_display": false
  }
 },
 "nbformat": 4,
 "nbformat_minor": 2
}
